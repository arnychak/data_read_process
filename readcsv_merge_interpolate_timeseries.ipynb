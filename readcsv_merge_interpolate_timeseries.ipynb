{
 "cells": [
  {
   "cell_type": "code",
   "execution_count": 1,
   "metadata": {
    "collapsed": true
   },
   "outputs": [],
   "source": [
    "import pandas as pd"
   ]
  },
  {
   "cell_type": "code",
   "execution_count": 2,
   "metadata": {
    "collapsed": true
   },
   "outputs": [],
   "source": [
    "dataset_list = ['FRED/GDP', 'FRED/INDPRO']"
   ]
  },
  {
   "cell_type": "code",
   "execution_count": 3,
   "metadata": {
    "collapsed": false
   },
   "outputs": [
    {
     "name": "stdout",
     "output_type": "stream",
     "text": [
      "Index(['Date', 'FRED_GDP'], dtype='object')\n",
      "Index(['Date', 'FRED_INDPRO'], dtype='object')\n"
     ]
    },
    {
     "data": {
      "text/html": [
       "<div>\n",
       "<style>\n",
       "    .dataframe thead tr:only-child th {\n",
       "        text-align: right;\n",
       "    }\n",
       "\n",
       "    .dataframe thead th {\n",
       "        text-align: left;\n",
       "    }\n",
       "\n",
       "    .dataframe tbody tr th {\n",
       "        vertical-align: top;\n",
       "    }\n",
       "</style>\n",
       "<table border=\"1\" class=\"dataframe\">\n",
       "  <thead>\n",
       "    <tr style=\"text-align: right;\">\n",
       "      <th></th>\n",
       "      <th>Date</th>\n",
       "      <th>FRED_GDP</th>\n",
       "      <th>FRED_INDPRO</th>\n",
       "    </tr>\n",
       "  </thead>\n",
       "  <tbody>\n",
       "    <tr>\n",
       "      <th>0</th>\n",
       "      <td>1919-01-01</td>\n",
       "      <td>NaN</td>\n",
       "      <td>5.0346</td>\n",
       "    </tr>\n",
       "    <tr>\n",
       "      <th>1</th>\n",
       "      <td>1919-02-01</td>\n",
       "      <td>NaN</td>\n",
       "      <td>4.8121</td>\n",
       "    </tr>\n",
       "    <tr>\n",
       "      <th>2</th>\n",
       "      <td>1919-03-01</td>\n",
       "      <td>NaN</td>\n",
       "      <td>4.6730</td>\n",
       "    </tr>\n",
       "    <tr>\n",
       "      <th>3</th>\n",
       "      <td>1919-04-01</td>\n",
       "      <td>NaN</td>\n",
       "      <td>4.7565</td>\n",
       "    </tr>\n",
       "    <tr>\n",
       "      <th>4</th>\n",
       "      <td>1919-05-01</td>\n",
       "      <td>NaN</td>\n",
       "      <td>4.7843</td>\n",
       "    </tr>\n",
       "  </tbody>\n",
       "</table>\n",
       "</div>"
      ],
      "text/plain": [
       "        Date  FRED_GDP  FRED_INDPRO\n",
       "0 1919-01-01       NaN       5.0346\n",
       "1 1919-02-01       NaN       4.8121\n",
       "2 1919-03-01       NaN       4.6730\n",
       "3 1919-04-01       NaN       4.7565\n",
       "4 1919-05-01       NaN       4.7843"
      ]
     },
     "execution_count": 3,
     "metadata": {},
     "output_type": "execute_result"
    }
   ],
   "source": [
    "for dataset in dataset_list:\n",
    "    \n",
    "    # read csv file\n",
    "    try:\n",
    "        filename = '_'.join(dataset.split('/'))\n",
    "        df = pd.read_csv('./data_files/' + filename + '.csv')\n",
    "    except:\n",
    "        print(\"Failed to read {}.csv\".format(filename))\n",
    "\n",
    "    # assume 2-col format with first col. date, second col. value\n",
    "    df.columns = ['Date', filename]\n",
    "    print(df.columns)\n",
    "    \n",
    "    # change type of date column to date time\n",
    "    df[['Date']] = df[['Date']].apply(pd.to_datetime)\n",
    "    \n",
    "    # merge multiple time serues\n",
    "    if 'df_all' in locals():\n",
    "        df_all = df_all.merge(df, on = 'Date', how='outer', sort = True)\n",
    "    else:\n",
    "        df_all = df.copy()\n",
    "    \n",
    "df_all.head()"
   ]
  },
  {
   "cell_type": "code",
   "execution_count": 4,
   "metadata": {
    "collapsed": false
   },
   "outputs": [],
   "source": [
    "df_all.interpolate(method='spline', order=2, inplace = True)\n",
    "\n",
    "if df_all.index.name != 'Date':\n",
    "    df_all.set_index('Date', inplace=True)"
   ]
  },
  {
   "cell_type": "code",
   "execution_count": 5,
   "metadata": {
    "collapsed": false
   },
   "outputs": [
    {
     "data": {
      "text/plain": [
       "<matplotlib.axes._subplots.AxesSubplot at 0x112880390>"
      ]
     },
     "execution_count": 5,
     "metadata": {},
     "output_type": "execute_result"
    },
    {
     "data": {
      "image/png": "[encoded data removed]",
      "text/plain": [
       "<matplotlib.figure.Figure at 0x10d839eb8>"
      ]
     },
     "metadata": {},
     "output_type": "display_data"
    }
   ],
   "source": [
    "import matplotlib.pyplot as plt\n",
    "%matplotlib inline\n",
    "\n",
    "df_all.plot(logy=True, grid = True)"
   ]
  },
  {
   "cell_type": "code",
   "execution_count": 6,
   "metadata": {
    "collapsed": false
   },
   "outputs": [],
   "source": [
    "df_Q = df_all.resample('Q')"
   ]
  },
  {
   "cell_type": "code",
   "execution_count": 7,
   "metadata": {
    "collapsed": false
   },
   "outputs": [
    {
     "data": {
      "text/plain": [
       "DatetimeIndex(['1919-01-01', '1919-02-01', '1919-03-01', '1919-04-01',\n",
       "               '1919-05-01', '1919-06-01', '1919-07-01', '1919-08-01',\n",
       "               '1919-09-01', '1919-10-01',\n",
       "               ...\n",
       "               '2017-01-01', '2017-02-01', '2017-03-01', '2017-04-01',\n",
       "               '2017-05-01', '2017-06-01', '2017-07-01', '2017-08-01',\n",
       "               '2017-09-01', '2017-10-01'],\n",
       "              dtype='datetime64[ns]', name='Date', length=1186, freq=None)"
      ]
     },
     "execution_count": 7,
     "metadata": {},
     "output_type": "execute_result"
    }
   ],
   "source": [
    "df_all.index"
   ]
  },
  {
   "cell_type": "code",
   "execution_count": null,
   "metadata": {
    "collapsed": true
   },
   "outputs": [],
   "source": []
  }
 ],
 "metadata": {
  "anaconda-cloud": {},
  "kernelspec": {
   "display_name": "Python [Root]",
   "language": "python",
   "name": "Python [Root]"
  },
  "language_info": {
   "codemirror_mode": {
    "name": "ipython",
    "version": 3
   },
   "file_extension": ".py",
   "mimetype": "text/x-python",
   "name": "python",
   "nbconvert_exporter": "python",
   "pygments_lexer": "ipython3",
   "version": "3.5.2"
  }
 },
 "nbformat": 4,
 "nbformat_minor": 2
}
