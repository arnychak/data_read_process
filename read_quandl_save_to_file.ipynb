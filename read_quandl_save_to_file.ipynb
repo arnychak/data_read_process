{
 "cells": [
  {
   "cell_type": "code",
   "execution_count": 1,
   "metadata": {
    "collapsed": true
   },
   "outputs": [],
   "source": [
    "import quandl"
   ]
  },
  {
   "cell_type": "code",
   "execution_count": 2,
   "metadata": {
    "collapsed": true
   },
   "outputs": [],
   "source": [
    "dataset_list = ['FRED/GDP', 'FRED/INDPRO']"
   ]
  },
  {
   "cell_type": "code",
   "execution_count": 3,
   "metadata": {
    "collapsed": false
   },
   "outputs": [],
   "source": [
    "for dataset in dataset_list:\n",
    "    try:\n",
    "        df = quandl.get(dataset)\n",
    "        filename = './data_files/'+'_'.join(dataset.split('/'))\n",
    "        df.to_csv(filename+'.csv')\n",
    "        df.to_excel(filename+'.xlsx')\n",
    "        df.to_json(filename+'.json')\n",
    "    except:\n",
    "        print(\"Failed to save {} from Quandl in a file\".format(dataset))\n",
    "    \n"
   ]
  },
  {
   "cell_type": "code",
   "execution_count": 4,
   "metadata": {
    "collapsed": false
   },
   "outputs": [
    {
     "data": {
      "text/html": [
       "<div>\n",
       "<style>\n",
       "    .dataframe thead tr:only-child th {\n",
       "        text-align: right;\n",
       "    }\n",
       "\n",
       "    .dataframe thead th {\n",
       "        text-align: left;\n",
       "    }\n",
       "\n",
       "    .dataframe tbody tr th {\n",
       "        vertical-align: top;\n",
       "    }\n",
       "</style>\n",
       "<table border=\"1\" class=\"dataframe\">\n",
       "  <thead>\n",
       "    <tr style=\"text-align: right;\">\n",
       "      <th></th>\n",
       "      <th>Value</th>\n",
       "    </tr>\n",
       "    <tr>\n",
       "      <th>Date</th>\n",
       "      <th></th>\n",
       "    </tr>\n",
       "  </thead>\n",
       "  <tbody>\n",
       "    <tr>\n",
       "      <th>1919-01-01</th>\n",
       "      <td>5.0346</td>\n",
       "    </tr>\n",
       "    <tr>\n",
       "      <th>1919-02-01</th>\n",
       "      <td>4.8121</td>\n",
       "    </tr>\n",
       "    <tr>\n",
       "      <th>1919-03-01</th>\n",
       "      <td>4.6730</td>\n",
       "    </tr>\n",
       "    <tr>\n",
       "      <th>1919-04-01</th>\n",
       "      <td>4.7565</td>\n",
       "    </tr>\n",
       "    <tr>\n",
       "      <th>1919-05-01</th>\n",
       "      <td>4.7843</td>\n",
       "    </tr>\n",
       "  </tbody>\n",
       "</table>\n",
       "</div>"
      ],
      "text/plain": [
       "             Value\n",
       "Date              \n",
       "1919-01-01  5.0346\n",
       "1919-02-01  4.8121\n",
       "1919-03-01  4.6730\n",
       "1919-04-01  4.7565\n",
       "1919-05-01  4.7843"
      ]
     },
     "execution_count": 4,
     "metadata": {},
     "output_type": "execute_result"
    }
   ],
   "source": [
    "df.head()"
   ]
  },
  {
   "cell_type": "code",
   "execution_count": 5,
   "metadata": {
    "collapsed": false
   },
   "outputs": [
    {
     "data": {
      "text/plain": [
       "'Date'"
      ]
     },
     "execution_count": 5,
     "metadata": {},
     "output_type": "execute_result"
    }
   ],
   "source": [
    "df.index.name"
   ]
  }
 ],
 "metadata": {
  "anaconda-cloud": {},
  "kernelspec": {
   "display_name": "Python [Root]",
   "language": "python",
   "name": "Python [Root]"
  },
  "language_info": {
   "codemirror_mode": {
    "name": "ipython",
    "version": 3
   },
   "file_extension": ".py",
   "mimetype": "text/x-python",
   "name": "python",
   "nbconvert_exporter": "python",
   "pygments_lexer": "ipython3",
   "version": "3.5.2"
  }
 },
 "nbformat": 4,
 "nbformat_minor": 2
}
